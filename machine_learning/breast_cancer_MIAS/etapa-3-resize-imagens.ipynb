{
 "cells": [
  {
   "cell_type": "markdown",
   "metadata": {},
   "source": [
    "# Modificações nas imagens"
   ]
  },
  {
   "cell_type": "code",
   "execution_count": 7,
   "metadata": {},
   "outputs": [
    {
     "data": {
      "text/html": [
       "<ol class=list-inline>\n",
       "\t<li>'mdb001.jpg'</li>\n",
       "\t<li>'mdb002.jpg'</li>\n",
       "\t<li>'mdb003.jpg'</li>\n",
       "\t<li>'mdb004.jpg'</li>\n",
       "\t<li>'mdb005.jpg'</li>\n",
       "</ol>\n"
      ],
      "text/latex": [
       "\\begin{enumerate*}\n",
       "\\item 'mdb001.jpg'\n",
       "\\item 'mdb002.jpg'\n",
       "\\item 'mdb003.jpg'\n",
       "\\item 'mdb004.jpg'\n",
       "\\item 'mdb005.jpg'\n",
       "\\end{enumerate*}\n"
      ],
      "text/markdown": [
       "1. 'mdb001.jpg'\n",
       "2. 'mdb002.jpg'\n",
       "3. 'mdb003.jpg'\n",
       "4. 'mdb004.jpg'\n",
       "5. 'mdb005.jpg'\n",
       "\n",
       "\n"
      ],
      "text/plain": [
       "[1] \"mdb001.jpg\" \"mdb002.jpg\" \"mdb003.jpg\" \"mdb004.jpg\" \"mdb005.jpg\""
      ]
     },
     "metadata": {},
     "output_type": "display_data"
    }
   ],
   "source": [
    "library(dplyr)\n",
    "library(tidyr)\n",
    "library(ggplot2)\n",
    "library(tensorflow)\n",
    "library(jpeg)\n",
    "library(gridExtra)\n",
    "\n",
    "# Setando diretório\n",
    "setwd(\"C:\\\\Users\\\\sanin\\\\Documents\\\\MIAS-JPEG\\\\imagens_etapa_3\")\n",
    "imagens <- list.files()\n",
    "\n",
    "imagens <- imagens[grepl(\".jpg\", imagens)]\n",
    "imagens[1:5]"
   ]
  },
  {
   "cell_type": "markdown",
   "metadata": {},
   "source": [
    "# 3. Resize imagens"
   ]
  },
  {
   "cell_type": "code",
   "execution_count": 8,
   "metadata": {},
   "outputs": [],
   "source": [
    "resizePixels = function(file, w, h) {\n",
    "# Ler imagem\n",
    "  imagem <- readJPEG(file)\n",
    "    \n",
    "  pixels = as.vector(imagem)\n",
    "  # initial width/height\n",
    "  w1 = nrow(imagem)\n",
    "  h1 = ncol(imagem)\n",
    "  # target width/height\n",
    "  w2 = w\n",
    "  h2 = h\n",
    "  # Create empty vector\n",
    "  temp = vector('numeric', w2*h2)\n",
    "  # Compute ratios\n",
    "  x_ratio = w1/w2\n",
    "  y_ratio = h1/h2\n",
    "  # Do resizing\n",
    "  for (i in 0:(h2-1)) {\n",
    "    for (j in 0:(w2-1)) {\n",
    "      px = floor(j*x_ratio)\n",
    "      py = floor(i*y_ratio)\n",
    "      temp[(i*w2)+j] = pixels[(py*w1)+px]\n",
    "    }\n",
    "  }\n",
    "\n",
    "  m = matrix(temp, h2, w2)\n",
    "    \n",
    "# Criando novo diretório para imagem \n",
    "  new_file <- \"C:\\\\Users\\\\sanin\\\\Documents\\\\MIAS-JPEG\\\\imagens_etapa_4\\\\\"\n",
    "  new_file <- paste0(new_file, \"resize_\", w, \"\\\\\", file)\n",
    "\n",
    "# Salvando imagem\n",
    "  writeJPEG(m, new_file)\n",
    "}\n",
    "\n",
    "for(imagem in imagens){\n",
    "    resizePixels(imagem, 128, 128)\n",
    "}\n",
    "\n",
    "for(imagem in imagens){\n",
    "    resizePixels(imagem, 256, 256)\n",
    "}\n",
    "\n",
    "for(imagem in imagens){\n",
    "    resizePixels(imagem, 512, 512)\n",
    "}"
   ]
  }
 ],
 "metadata": {
  "kernelspec": {
   "display_name": "R",
   "language": "R",
   "name": "ir"
  },
  "language_info": {
   "codemirror_mode": "r",
   "file_extension": ".r",
   "mimetype": "text/x-r-source",
   "name": "R",
   "pygments_lexer": "r",
   "version": "3.5.1"
  }
 },
 "nbformat": 4,
 "nbformat_minor": 2
}
