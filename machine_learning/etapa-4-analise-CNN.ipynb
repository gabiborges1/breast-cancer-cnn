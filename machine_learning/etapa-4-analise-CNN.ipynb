{
 "cells": [
  {
   "cell_type": "markdown",
   "metadata": {},
   "source": [
    "# Importando bibliotecas"
   ]
  },
  {
   "cell_type": "code",
   "execution_count": 45,
   "metadata": {},
   "outputs": [],
   "source": [
    "%matplotlib inline\n",
    "import cv2\n",
    "import os\n",
    "import matplotlib.pyplot as plt\n",
    "import numpy as np\n",
    "import pandas as pd\n",
    "import shutil\n",
    "\n",
    "np.random.seed(123)  # for reproducibility"
   ]
  },
  {
   "cell_type": "markdown",
   "metadata": {},
   "source": [
    "# Setando diretorio"
   ]
  },
  {
   "cell_type": "code",
   "execution_count": 46,
   "metadata": {},
   "outputs": [
    {
     "data": {
      "text/plain": [
       "['mdb001.jpg',\n",
       " 'mdb002.jpg',\n",
       " 'mdb003.jpg',\n",
       " 'mdb004.jpg',\n",
       " 'mdb005.jpg',\n",
       " 'mdb006.jpg',\n",
       " 'mdb007.jpg',\n",
       " 'mdb008.jpg']"
      ]
     },
     "execution_count": 46,
     "metadata": {},
     "output_type": "execute_result"
    }
   ],
   "source": [
    "# Setar diretóro de trabalho\n",
    "file = \"C:/Users/sanin/Documents/MIAS-JPEG/imagens_etapa_4/resize_128/\"\n",
    "os.chdir(file)\n",
    "imagens = os.listdir()\n",
    "del imagens[-1]\n",
    "del imagens[-1]\n",
    "imagens[0:8]"
   ]
  },
  {
   "cell_type": "markdown",
   "metadata": {},
   "source": [
    "# Organizando imagens nos files segundo categoria"
   ]
  },
  {
   "cell_type": "code",
   "execution_count": 55,
   "metadata": {},
   "outputs": [
    {
     "data": {
      "text/html": [
       "<div>\n",
       "<style scoped>\n",
       "    .dataframe tbody tr th:only-of-type {\n",
       "        vertical-align: middle;\n",
       "    }\n",
       "\n",
       "    .dataframe tbody tr th {\n",
       "        vertical-align: top;\n",
       "    }\n",
       "\n",
       "    .dataframe thead th {\n",
       "        text-align: right;\n",
       "    }\n",
       "</style>\n",
       "<table border=\"1\" class=\"dataframe\">\n",
       "  <thead>\n",
       "    <tr style=\"text-align: right;\">\n",
       "      <th></th>\n",
       "      <th>Unnamed: 0</th>\n",
       "      <th>file</th>\n",
       "      <th>status</th>\n",
       "      <th>treino</th>\n",
       "    </tr>\n",
       "  </thead>\n",
       "  <tbody>\n",
       "    <tr>\n",
       "      <th>0</th>\n",
       "      <td>1</td>\n",
       "      <td>mdb001</td>\n",
       "      <td>Benigno</td>\n",
       "      <td>train</td>\n",
       "    </tr>\n",
       "    <tr>\n",
       "      <th>1</th>\n",
       "      <td>2</td>\n",
       "      <td>mdb002</td>\n",
       "      <td>Benigno</td>\n",
       "      <td>train</td>\n",
       "    </tr>\n",
       "    <tr>\n",
       "      <th>2</th>\n",
       "      <td>3</td>\n",
       "      <td>mdb003</td>\n",
       "      <td>Normal</td>\n",
       "      <td>train</td>\n",
       "    </tr>\n",
       "    <tr>\n",
       "      <th>3</th>\n",
       "      <td>4</td>\n",
       "      <td>mdb004</td>\n",
       "      <td>Normal</td>\n",
       "      <td>train</td>\n",
       "    </tr>\n",
       "    <tr>\n",
       "      <th>4</th>\n",
       "      <td>5</td>\n",
       "      <td>mdb005</td>\n",
       "      <td>Benigno</td>\n",
       "      <td>train</td>\n",
       "    </tr>\n",
       "  </tbody>\n",
       "</table>\n",
       "</div>"
      ],
      "text/plain": [
       "   Unnamed: 0    file   status treino\n",
       "0           1  mdb001  Benigno  train\n",
       "1           2  mdb002  Benigno  train\n",
       "2           3  mdb003   Normal  train\n",
       "3           4  mdb004   Normal  train\n",
       "4           5  mdb005  Benigno  train"
      ]
     },
     "execution_count": 55,
     "metadata": {},
     "output_type": "execute_result"
    }
   ],
   "source": [
    "metadados_img = pd.read_csv(\"C:/Users/sanin/Documents/MIAS-JPEG/tabelinha.csv\")\n",
    "\n",
    "# Escolhendo aleatoriamente imagens para teste\n",
    "np.random.seed(123)\n",
    "numero_imagens = metadados_img.shape[0]\n",
    "random = np.random.choice([0, 1], size=(numero_imagens,), p=[0.20, 0.80])\n",
    "\n",
    "metadados_img['treino'] = [(1-indicador)*'test' + indicador*\"train\" for indicador in random]\n",
    "\n",
    "metadados_img.head()"
   ]
  },
  {
   "cell_type": "code",
   "execution_count": 64,
   "metadata": {},
   "outputs": [
    {
     "data": {
      "text/html": [
       "<div>\n",
       "<style scoped>\n",
       "    .dataframe tbody tr th:only-of-type {\n",
       "        vertical-align: middle;\n",
       "    }\n",
       "\n",
       "    .dataframe tbody tr th {\n",
       "        vertical-align: top;\n",
       "    }\n",
       "\n",
       "    .dataframe thead th {\n",
       "        text-align: right;\n",
       "    }\n",
       "</style>\n",
       "<table border=\"1\" class=\"dataframe\">\n",
       "  <thead>\n",
       "    <tr style=\"text-align: right;\">\n",
       "      <th></th>\n",
       "      <th></th>\n",
       "      <th>Unnamed: 0</th>\n",
       "      <th>file</th>\n",
       "    </tr>\n",
       "    <tr>\n",
       "      <th>status</th>\n",
       "      <th>treino</th>\n",
       "      <th></th>\n",
       "      <th></th>\n",
       "    </tr>\n",
       "  </thead>\n",
       "  <tbody>\n",
       "    <tr>\n",
       "      <th rowspan=\"2\" valign=\"top\">Benigno</th>\n",
       "      <th>test</th>\n",
       "      <td>9</td>\n",
       "      <td>9</td>\n",
       "    </tr>\n",
       "    <tr>\n",
       "      <th>train</th>\n",
       "      <td>52</td>\n",
       "      <td>52</td>\n",
       "    </tr>\n",
       "    <tr>\n",
       "      <th rowspan=\"2\" valign=\"top\">Maligno</th>\n",
       "      <th>test</th>\n",
       "      <td>8</td>\n",
       "      <td>8</td>\n",
       "    </tr>\n",
       "    <tr>\n",
       "      <th>train</th>\n",
       "      <td>44</td>\n",
       "      <td>44</td>\n",
       "    </tr>\n",
       "    <tr>\n",
       "      <th rowspan=\"2\" valign=\"top\">Normal</th>\n",
       "      <th>test</th>\n",
       "      <td>44</td>\n",
       "      <td>44</td>\n",
       "    </tr>\n",
       "    <tr>\n",
       "      <th>train</th>\n",
       "      <td>165</td>\n",
       "      <td>165</td>\n",
       "    </tr>\n",
       "  </tbody>\n",
       "</table>\n",
       "</div>"
      ],
      "text/plain": [
       "                Unnamed: 0  file\n",
       "status  treino                  \n",
       "Benigno test             9     9\n",
       "        train           52    52\n",
       "Maligno test             8     8\n",
       "        train           44    44\n",
       "Normal  test            44    44\n",
       "        train          165   165"
      ]
     },
     "execution_count": 64,
     "metadata": {},
     "output_type": "execute_result"
    }
   ],
   "source": [
    "metadados_img.groupby(['status', 'treino']).count()"
   ]
  },
  {
   "cell_type": "code",
   "execution_count": 53,
   "metadata": {},
   "outputs": [],
   "source": [
    "def mover_imagens(pasta):\n",
    "    for index in range(metadados_img.shape[0]):\n",
    "        \n",
    "        file = \"C:/Users/sanin/Documents/MIAS-JPEG/imagens_etapa_4/\" + pasta\n",
    "        file_source = file + metadados_img['file'][index] + '.jpg'\n",
    "\n",
    "        if metadados_img['treino'][index] == \"train\":\n",
    "            file = file + 'train'\n",
    "        else:\n",
    "            file = file + 'validation'\n",
    "\n",
    "        if metadados_img['status'][index] == \"Benigno\":\n",
    "            file_destination = file + '/Benigno/'\n",
    "        elif metadados_img['status'][index] == \"Maligno\":\n",
    "            file_destination = file + '/Maligno/'\n",
    "        else:\n",
    "            file_destination = file + '/Normal/' \n",
    "\n",
    "        shutil.copy(file_source, file_destination)\n",
    "        \n",
    "mover_imagens('resize_128/')\n",
    "mover_imagens('resize_256/')\n",
    "mover_imagens('resize_512/')"
   ]
  },
  {
   "cell_type": "markdown",
   "metadata": {},
   "source": [
    "### Taxa de aprendizado"
   ]
  }
 ],
 "metadata": {
  "kernelspec": {
   "display_name": "Python 3",
   "language": "python",
   "name": "python3"
  },
  "language_info": {
   "codemirror_mode": {
    "name": "ipython",
    "version": 3
   },
   "file_extension": ".py",
   "mimetype": "text/x-python",
   "name": "python",
   "nbconvert_exporter": "python",
   "pygments_lexer": "ipython3",
   "version": "3.6.5"
  }
 },
 "nbformat": 4,
 "nbformat_minor": 2
}
