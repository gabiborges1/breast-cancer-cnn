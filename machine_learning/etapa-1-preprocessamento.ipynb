{
 "cells": [
  {
   "cell_type": "markdown",
   "metadata": {},
   "source": [
    "# Modificações nas imagens"
   ]
  },
  {
   "cell_type": "code",
   "execution_count": 3,
   "metadata": {},
   "outputs": [
    {
     "data": {
      "text/html": [
       "<ol class=list-inline>\n",
       "\t<li>'mdb001.jpg'</li>\n",
       "\t<li>'mdb002.jpg'</li>\n",
       "\t<li>'mdb003.jpg'</li>\n",
       "\t<li>'mdb004.jpg'</li>\n",
       "\t<li>'mdb005.jpg'</li>\n",
       "</ol>\n"
      ],
      "text/latex": [
       "\\begin{enumerate*}\n",
       "\\item 'mdb001.jpg'\n",
       "\\item 'mdb002.jpg'\n",
       "\\item 'mdb003.jpg'\n",
       "\\item 'mdb004.jpg'\n",
       "\\item 'mdb005.jpg'\n",
       "\\end{enumerate*}\n"
      ],
      "text/markdown": [
       "1. 'mdb001.jpg'\n",
       "2. 'mdb002.jpg'\n",
       "3. 'mdb003.jpg'\n",
       "4. 'mdb004.jpg'\n",
       "5. 'mdb005.jpg'\n",
       "\n",
       "\n"
      ],
      "text/plain": [
       "[1] \"mdb001.jpg\" \"mdb002.jpg\" \"mdb003.jpg\" \"mdb004.jpg\" \"mdb005.jpg\""
      ]
     },
     "metadata": {},
     "output_type": "display_data"
    }
   ],
   "source": [
    "library(dplyr)\n",
    "library(tidyr)\n",
    "library(ggplot2)\n",
    "library(tensorflow)\n",
    "library(jpeg)\n",
    "library(gridExtra)\n",
    "\n",
    "# Setando diretório\n",
    "setwd(\"C:\\\\Users\\\\sanin\\\\Documents\\\\MIAS-JPEG\\\\imagens_originais\")\n",
    "imagens <- list.files()\n",
    "\n",
    "imagens <- imagens[grepl(\".jpg\", imagens)]\n",
    "imagens[1:5]"
   ]
  },
  {
   "cell_type": "markdown",
   "metadata": {},
   "source": [
    "# 1. Removendo 32pixels das bordas das imagens e background"
   ]
  },
  {
   "cell_type": "code",
   "execution_count": 4,
   "metadata": {},
   "outputs": [],
   "source": [
    "cortar_imagem <- function(file, padding = 128){\n",
    "# Ler imagem\n",
    "    imagem <- readJPEG(file)\n",
    "\n",
    "# Pegar numero de colunas da matriz de pixels\n",
    "    dimensao_col <- dim(imagem)[1]\n",
    "\n",
    "# Setando index de colunas e linhas a serem removidas da imagem\n",
    "    index_para_remover <- c(1:padding , dimensao_col:(dimensao_col - padding))\n",
    "\n",
    "# Criando nova imagem\n",
    "    new_imagem <- imagem[-index_para_remover, -index_para_remover]\n",
    "    \n",
    "# Criando novo diretório para imagem    \n",
    "    new_file <- paste0(\"C:/Users/sanin/Documents/MIAS-JPEG/imagens_etapa_1/\", file)\n",
    "\n",
    "# Salvando imagem\n",
    "    writeJPEG(new_imagem, new_file)\n",
    "    return(new_imagem)\n",
    "}\n",
    "\n",
    "for(imagem in imagens){\n",
    "    cortar_imagem(imagem, padding = 32)\n",
    "}"
   ]
  }
 ],
 "metadata": {
  "kernelspec": {
   "display_name": "R",
   "language": "R",
   "name": "ir"
  },
  "language_info": {
   "codemirror_mode": "r",
   "file_extension": ".r",
   "mimetype": "text/x-r-source",
   "name": "R",
   "pygments_lexer": "r",
   "version": "3.5.1"
  }
 },
 "nbformat": 4,
 "nbformat_minor": 2
}
